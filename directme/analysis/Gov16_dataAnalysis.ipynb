{
 "cells": [
  {
   "cell_type": "code",
   "execution_count": 1,
   "metadata": {
    "collapsed": true
   },
   "outputs": [],
   "source": [
    "class Debug:\n",
    "    def __init__(self, level):\n",
    "        self.level = level\n",
    "    def msg(self, level, m):\n",
    "        if(level <= self.level):\n",
    "            print(m)\n",
    "debug = Debug(10).msg"
   ]
  },
  {
   "cell_type": "code",
   "execution_count": 2,
   "metadata": {
    "collapsed": true
   },
   "outputs": [],
   "source": [
    "%matplotlib inline\n",
    "#!/usr/bin/python\n",
    "#AWS redshift connector:\n",
    "#setup\n",
    "from datetime import date, timedelta\n",
    "import pandas as pd\n",
    "import random\n",
    "import numpy as np"
   ]
  },
  {
   "cell_type": "code",
   "execution_count": 6,
   "metadata": {
    "collapsed": true
   },
   "outputs": [],
   "source": [
    "def uniqueSummary(csvname):\n",
    "    df = pd.read_csv(csvname)\n",
    "    newdf = pd.DataFrame(columns = df.columns)\n",
    "    for colName in df.head():\n",
    "        u = df[colName].unique()\n",
    "        if len(u) > 100:\n",
    "            newdf.loc[:, colName] = [len(u), \"more than 100\"]\n",
    "        else:\n",
    "            newdf.loc[:, colName] = [len(u), u]\n",
    "    newdf = newdf.T\n",
    "    \n",
    "    newdf.to_csv(\"uniqueSummary_\" + csvname)\n",
    "        "
   ]
  },
  {
   "cell_type": "code",
   "execution_count": 7,
   "metadata": {
    "collapsed": false
   },
   "outputs": [
    {
     "name": "stderr",
     "output_type": "stream",
     "text": [
      "/home/r117/miniconda3/envs/snakes/lib/python3.5/site-packages/IPython/core/interactiveshell.py:2825: DtypeWarning: Columns (10,13) have mixed types. Specify dtype option on import or set low_memory=False.\n",
      "  if self.run_code(code, result):\n",
      "/home/r117/miniconda3/envs/snakes/lib/python3.5/site-packages/IPython/core/interactiveshell.py:2825: DtypeWarning: Columns (3,26) have mixed types. Specify dtype option on import or set low_memory=False.\n",
      "  if self.run_code(code, result):\n"
     ]
    }
   ],
   "source": [
    "with open(\"filenames.txt\") as f:\n",
    "    for i in f:\n",
    "        i = i.strip('\\n')\n",
    "        uniqueSummary(i)\n",
    "        "
   ]
  },
  {
   "cell_type": "code",
   "execution_count": 9,
   "metadata": {
    "collapsed": false
   },
   "outputs": [
    {
     "data": {
      "text/plain": [
       "Index(['ACCIDENT_NO', 'NODE_ID', 'NODE_TYPE', 'AMG_X', 'AMG_Y', 'LGA_NAME',\n",
       "       'Region Name', 'Deg Urban Name', 'Lat', 'Long', 'Postcode No'],\n",
       "      dtype='object')"
      ]
     },
     "execution_count": 9,
     "metadata": {},
     "output_type": "execute_result"
    }
   ],
   "source": [
    "nodedf = pd.read_csv(\"NODE.csv\")\n",
    "nodedf.columns"
   ]
  },
  {
   "cell_type": "code",
   "execution_count": 11,
   "metadata": {
    "collapsed": false
   },
   "outputs": [
    {
     "data": {
      "text/plain": [
       "Index(['ACCIDENT_NO', 'NODE_ID', 'ROAD_ROUTE_1', 'ROAD_NAME', 'ROAD_TYPE',\n",
       "       'ROAD_NAME_INT', 'ROAD_TYPE_INT', 'DISTANCE_LOCATION',\n",
       "       'DIRECTION_LOCATION', 'NEAREST_KM_POST', 'OFF_ROAD_LOCATION'],\n",
       "      dtype='object')"
      ]
     },
     "execution_count": 11,
     "metadata": {},
     "output_type": "execute_result"
    }
   ],
   "source": [
    "accidentlocdf = pd.read_csv(\"ACCIDENT_LOCATION.csv\")\n",
    "accidentlocdf.columns"
   ]
  },
  {
   "cell_type": "code",
   "execution_count": 13,
   "metadata": {
    "collapsed": false
   },
   "outputs": [
    {
     "name": "stdout",
     "output_type": "stream",
     "text": [
      "(145669, 11)\n",
      "(144078, 11)\n"
     ]
    }
   ],
   "source": [
    "print(nodedf.shape)\n",
    "print(accidentlocdf.shape)"
   ]
  },
  {
   "cell_type": "code",
   "execution_count": 36,
   "metadata": {
    "collapsed": false
   },
   "outputs": [
    {
     "data": {
      "text/plain": [
       "0    2090.0\n",
       "1    5057.0\n",
       "2    9999.0\n",
       "3    2400.0\n",
       "4    9999.0\n",
       "Name: ROAD_ROUTE_1, dtype: float64"
      ]
     },
     "execution_count": 36,
     "metadata": {},
     "output_type": "execute_result"
    }
   ],
   "source": [
    "accidentlocdf.ROAD_ROUTE_1.head()"
   ]
  },
  {
   "cell_type": "code",
   "execution_count": 34,
   "metadata": {
    "collapsed": false
   },
   "outputs": [
    {
     "name": "stdout",
     "output_type": "stream",
     "text": [
      "(145669, 11)\n"
     ]
    }
   ],
   "source": [
    "#check to see NODE_ID is not null in accident_location.csv\n",
    "s = nodedf.shape[0]\n",
    "compPoll = accidentlocdf.ACCIDENT_NO\n",
    "rows = []\n",
    "i = 0\n",
    "new = nodedf[nodedf.loc[:, \"ACCIDENT_NO\"].isin(compPoll)]\n",
    "\n",
    "    "
   ]
  },
  {
   "cell_type": "code",
   "execution_count": 35,
   "metadata": {
    "collapsed": false
   },
   "outputs": [
    {
     "name": "stdout",
     "output_type": "stream",
     "text": [
      "143179\n",
      "144078\n"
     ]
    }
   ],
   "source": [
    "print(len(nodedf.ACCIDENT_NO.unique()))\n",
    "print(len(accidentlocdf.ACCIDENT_NO.unique()))\n"
   ]
  },
  {
   "cell_type": "code",
   "execution_count": 47,
   "metadata": {
    "collapsed": false
   },
   "outputs": [],
   "source": [
    "class LOC():\n",
    "    def __init__(self,lat, long):\n",
    "        self.lat = lat\n",
    "        self.long = long"
   ]
  },
  {
   "cell_type": "code",
   "execution_count": 50,
   "metadata": {
    "collapsed": false,
    "scrolled": true
   },
   "outputs": [],
   "source": [
    "pointA = LOC(-37.8007939, 144.8803823)\n",
    "pointB = LOC(-37.8622120,144.8831790)"
   ]
  },
  {
   "cell_type": "code",
   "execution_count": 54,
   "metadata": {
    "collapsed": false
   },
   "outputs": [],
   "source": [
    "def getNodes(A, B): #point A,B must be LOC class\n",
    "    row = nodedf.shape[0] #row number\n",
    "    rowcount = []\n",
    "    for i in range(row):\n",
    "        if(withinRange(nodedf.loc[i, 'Lat'], B.lat, A.lat) and \n",
    "           withinRange(nodedf.loc[i, 'Long'], A.long, B.long)):\n",
    "            rowcount.append(i)\n",
    "        else:\n",
    "            continue\n",
    "    print(len(rowcount))\n",
    "def withinRange(loc1,loc2, loc3):\n",
    "    if loc2 <= loc1 <= loc3:\n",
    "        return True\n",
    "    else:\n",
    "        return False"
   ]
  },
  {
   "cell_type": "code",
   "execution_count": 55,
   "metadata": {
    "collapsed": false
   },
   "outputs": [
    {
     "name": "stdout",
     "output_type": "stream",
     "text": [
      "248\n"
     ]
    }
   ],
   "source": [
    "getNodes(pointA, pointB)"
   ]
  }
 ],
 "metadata": {
  "kernelspec": {
   "display_name": "Python 3",
   "language": "python",
   "name": "python3"
  },
  "language_info": {
   "codemirror_mode": {
    "name": "ipython",
    "version": 3
   },
   "file_extension": ".py",
   "mimetype": "text/x-python",
   "name": "python",
   "nbconvert_exporter": "python",
   "pygments_lexer": "ipython3",
   "version": "3.5.2"
  }
 },
 "nbformat": 4,
 "nbformat_minor": 0
}
