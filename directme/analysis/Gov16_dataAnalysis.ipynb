{
 "cells": [
  {
   "cell_type": "code",
   "execution_count": 1,
   "metadata": {
    "collapsed": true
   },
   "outputs": [],
   "source": [
    "class Debug:\n",
    "    def __init__(self, level):\n",
    "        self.level = level\n",
    "    def msg(self, level, m):\n",
    "        if(level <= self.level):\n",
    "            print(m)\n",
    "debug = Debug(10).msg"
   ]
  },
  {
   "cell_type": "code",
   "execution_count": 2,
   "metadata": {
    "collapsed": true
   },
   "outputs": [],
   "source": [
    "%matplotlib inline\n",
    "#!/usr/bin/python\n",
    "#AWS redshift connector:\n",
    "#setup\n",
    "from datetime import date, timedelta\n",
    "import pandas as pd\n",
    "import random\n",
    "import numpy as np\n",
    "import matplotlib.pyplot as plt"
   ]
  },
  {
   "cell_type": "code",
   "execution_count": 3,
   "metadata": {
    "collapsed": true
   },
   "outputs": [],
   "source": [
    "def uniqueSummary(csvname):\n",
    "    df = pd.read_csv(csvname)\n",
    "    newdf = pd.DataFrame(columns = df.columns)\n",
    "    for colName in df.head():\n",
    "        u = df[colName].unique()\n",
    "        if len(u) > 100:\n",
    "            newdf.loc[:, colName] = [len(u), \"more than 100\"]\n",
    "        else:\n",
    "            newdf.loc[:, colName] = [len(u), u]\n",
    "    newdf = newdf.T\n",
    "    \n",
    "    newdf.to_csv(\"uniqueSummary_\" + csvname)\n",
    "        "
   ]
  },
  {
   "cell_type": "code",
   "execution_count": 7,
   "metadata": {
    "collapsed": false
   },
   "outputs": [
    {
     "name": "stderr",
     "output_type": "stream",
     "text": [
      "/home/r117/miniconda3/envs/snakes/lib/python3.5/site-packages/IPython/core/interactiveshell.py:2825: DtypeWarning: Columns (10,13) have mixed types. Specify dtype option on import or set low_memory=False.\n",
      "  if self.run_code(code, result):\n",
      "/home/r117/miniconda3/envs/snakes/lib/python3.5/site-packages/IPython/core/interactiveshell.py:2825: DtypeWarning: Columns (3,26) have mixed types. Specify dtype option on import or set low_memory=False.\n",
      "  if self.run_code(code, result):\n"
     ]
    }
   ],
   "source": [
    "## don't run below if you have files in the prefix of uniqueSummary_*\n",
    "with open(\"filenames.txt\") as f:\n",
    "    for i in f:\n",
    "        i = i.strip('\\n')\n",
    "        uniqueSummary(i)\n",
    "        "
   ]
  },
  {
   "cell_type": "code",
   "execution_count": 4,
   "metadata": {
    "collapsed": false
   },
   "outputs": [],
   "source": [
    "class LOC():\n",
    "    def __init__(self,lat, long):\n",
    "        self.lat = lat\n",
    "        self.long = long"
   ]
  },
  {
   "cell_type": "code",
   "execution_count": 5,
   "metadata": {
    "collapsed": false
   },
   "outputs": [],
   "source": [
    "def getNodes(A, B): #point A,B must be LOC class\n",
    "    row = nodedf.shape[0] #row number\n",
    "    rowcount = []\n",
    "    for i in range(row):\n",
    "        if(withinRange(nodedf.loc[i, 'Lat'], B.lat, A.lat) and \n",
    "           withinRange(nodedf.loc[i, 'Long'], A.long, B.long)):\n",
    "            rowcount.append(i)\n",
    "        else:\n",
    "            continue\n",
    "    return nodedf.loc[rowcount, :]\n",
    "def withinRange(loc1,loc2, loc3):\n",
    "    if loc2 <= loc1 <= loc3:\n",
    "        return True\n",
    "    else:\n",
    "        return False"
   ]
  },
  {
   "cell_type": "markdown",
   "metadata": {},
   "source": [
    "## Get the unique probability summary\n",
    "### age composition, road surface conditions, road atmospheric conditions,"
   ]
  },
  {
   "cell_type": "code",
   "execution_count": 6,
   "metadata": {
    "collapsed": true
   },
   "outputs": [],
   "source": [
    "#need to optimize this function. Approach chould be from persondf's perspective to check against suburb code,\n",
    "#it would be faster that way.\n",
    "def countInjuries(data): #the data is a sub dataframe of node\n",
    "    #debug(10, data.head())\n",
    "    injuries = {'non_injury':0, 'other_injury':0, 'serious_injury': 0, 'fatality': 0} #four categories of injuries\n",
    "    debug(10, \"Processing: {0}\".format(data.shape[0]))\n",
    "    if data.shape[0] > 0:\n",
    "        tempPersondf = persondf[persondf[\"ACCIDENT_NO\"].isin(data[\"ACCIDENT_NO\"])]        \n",
    "        injuries['fatality'] += tempPersondf[tempPersondf[\"INJ_LEVEL\"] == 1].shape[0] \n",
    "        injuries['serious_injury'] += tempPersondf[tempPersondf[\"INJ_LEVEL\"] == 2].shape[0]\n",
    "        injuries['other_injury'] += tempPersondf[tempPersondf[\"INJ_LEVEL\"] == 3].shape[0]\n",
    "        injuries['non_injury'] += tempPersondf[tempPersondf[\"INJ_LEVEL\"] == 4].shape[0]\n",
    "    #after:\n",
    "    total = sum(injuries.values())\n",
    "    \n",
    "    for i in injuries:\n",
    "        injuries[i] = '{0:.02f}%'.format(injuries[i] / total * 100)\n",
    "    \n",
    "    injuries[\"total_injuries\"] = total\n",
    "    return injuries\n",
    "#def findCases(colName, df1, df2): #df1 is the dataframe to look for, df2 is the dataframe to compare"
   ]
  },
  {
   "cell_type": "code",
   "execution_count": 8,
   "metadata": {
    "collapsed": false
   },
   "outputs": [],
   "source": [
    "#get age composition\n",
    "def countAgeGroups(data):\n",
    "    if data.shape[0] > 0:\n",
    "        tempPersondf = persondf[persondf[\"ACCIDENT_NO\"].isin(data[\"ACCIDENT_NO\"])]\n",
    "        ages = tempPersondf.AGE.value_counts()\n",
    "        return ages\n",
    "    else:\n",
    "        print(\"passing an empty data\")\n",
    "        return None\n",
    "\n",
    "#plot\n",
    "def plotBarChart(data):\n",
    "    fig, ax = plt.subplots()\n",
    "\n",
    "    index = data.index\n",
    "    bar_width = 0.35\n",
    "\n",
    "    opacity = 0.4\n",
    "    error_config = {'ecolor': '0.3'}\n",
    "\n",
    "    rects1 = plt.bar(index, data.values, bar_width,\n",
    "                     alpha=opacity,\n",
    "                     color='b',\n",
    "                     error_kw=error_config,\n",
    "                     label='age groups')\n",
    "\n",
    "    plt.xlabel('Age groups')\n",
    "    plt.ylabel('Accident counts')\n",
    "    plt.title('Age vs accidents')\n",
    "    plt.legend()\n",
    "    #plt.tight_layout()\n",
    "    plt.show()\n"
   ]
  },
  {
   "cell_type": "code",
   "execution_count": 12,
   "metadata": {
    "collapsed": false
   },
   "outputs": [
    {
     "data": {
      "text/html": [
       "<div>\n",
       "<table border=\"1\" class=\"dataframe\">\n",
       "  <thead>\n",
       "    <tr style=\"text-align: right;\">\n",
       "      <th></th>\n",
       "      <th>ACCIDENT_NO</th>\n",
       "      <th>SURFACE_COND</th>\n",
       "      <th>Surface Cond Desc</th>\n",
       "      <th>SURFACE_COND_SEQ</th>\n",
       "    </tr>\n",
       "  </thead>\n",
       "  <tbody>\n",
       "    <tr>\n",
       "      <th>0</th>\n",
       "      <td>T20060000010</td>\n",
       "      <td>1</td>\n",
       "      <td>Dry</td>\n",
       "      <td>1</td>\n",
       "    </tr>\n",
       "    <tr>\n",
       "      <th>1</th>\n",
       "      <td>T20060000018</td>\n",
       "      <td>1</td>\n",
       "      <td>Dry</td>\n",
       "      <td>1</td>\n",
       "    </tr>\n",
       "    <tr>\n",
       "      <th>2</th>\n",
       "      <td>T20060000022</td>\n",
       "      <td>1</td>\n",
       "      <td>Dry</td>\n",
       "      <td>1</td>\n",
       "    </tr>\n",
       "    <tr>\n",
       "      <th>3</th>\n",
       "      <td>T20060000023</td>\n",
       "      <td>1</td>\n",
       "      <td>Dry</td>\n",
       "      <td>1</td>\n",
       "    </tr>\n",
       "    <tr>\n",
       "      <th>4</th>\n",
       "      <td>T20060000026</td>\n",
       "      <td>1</td>\n",
       "      <td>Dry</td>\n",
       "      <td>1</td>\n",
       "    </tr>\n",
       "  </tbody>\n",
       "</table>\n",
       "</div>"
      ],
      "text/plain": [
       "    ACCIDENT_NO  SURFACE_COND Surface Cond Desc  SURFACE_COND_SEQ\n",
       "0  T20060000010             1               Dry                 1\n",
       "1  T20060000018             1               Dry                 1\n",
       "2  T20060000022             1               Dry                 1\n",
       "3  T20060000023             1               Dry                 1\n",
       "4  T20060000026             1               Dry                 1"
      ]
     },
     "execution_count": 12,
     "metadata": {},
     "output_type": "execute_result"
    }
   ],
   "source": [
    "#get road surface condition\n",
    "roadSurfacedf.head()\n",
    "def getRoadSurface(data): #input the inrangedf\n",
    "    "
   ]
  },
  {
   "cell_type": "code",
   "execution_count": null,
   "metadata": {
    "collapsed": true
   },
   "outputs": [],
   "source": [
    "#get atmospheric condition"
   ]
  },
  {
   "cell_type": "code",
   "execution_count": null,
   "metadata": {
    "collapsed": true
   },
   "outputs": [],
   "source": [
    "#?"
   ]
  },
  {
   "cell_type": "code",
   "execution_count": 10,
   "metadata": {
    "collapsed": false
   },
   "outputs": [
    {
     "name": "stderr",
     "output_type": "stream",
     "text": [
      "/home/r117/miniconda3/envs/snakes/lib/python3.5/site-packages/IPython/core/interactiveshell.py:2723: DtypeWarning: Columns (10,13) have mixed types. Specify dtype option on import or set low_memory=False.\n",
      "  interactivity=interactivity, compiler=compiler, result=result)\n"
     ]
    },
    {
     "name": "stdout",
     "output_type": "stream",
     "text": [
      "Processing: 248\n"
     ]
    },
    {
     "data": {
      "image/png": "[encoded data removed]",
      "text/plain": [
       "<matplotlib.figure.Figure at 0x7ff0c84af470>"
      ]
     },
     "metadata": {},
     "output_type": "display_data"
    }
   ],
   "source": [
    "#for age: PERSON.csv\n",
    "#for road surface: ROAD_SURFACE_COND.csv\n",
    "#for road atmospheric conditions: ATMOSPHERIC_COND.csv\n",
    "#checking against inrangenodedf\n",
    "persondf = pd.read_csv(\"PERSON.csv\")\n",
    "roadSurfacedf = pd.read_csv(\"ROAD_SURFACE_COND.csv\")\n",
    "roadAtmosphericdf = pd.read_csv(\"ATMOSPHERIC_COND.csv\")\n",
    "nodedf = pd.read_csv(\"NODE.csv\")\n",
    "\n",
    "#tie everything together\n",
    "pointA = LOC(-37.8007939, 144.8803823)\n",
    "pointB = LOC(-37.8622120,144.8831790)\n",
    "#===========\n",
    "inrangedf = getNodes(pointA, pointB) #the function assume the lat is in negative values. \n",
    "#--\n",
    "injuries = countInjuries(inrangedf)\n",
    "ages = countAgeGroups(inrangedf) #ages = ages.to_dict can convert the data into dictionary type\n",
    "plotBarChart(ages)"
   ]
  },
  {
   "cell_type": "code",
   "execution_count": 14,
   "metadata": {
    "collapsed": false,
    "scrolled": true
   },
   "outputs": [
    {
     "name": "stdout",
     "output_type": "stream",
     "text": [
      "<class 'dict'>\n",
      "{'serious_injury': '12.76%', 'non_injury': '54.02%', 'total_injuries': 635, 'fatality': '0.16%', 'other_injury': '33.07%'}\n",
      "<class 'pandas.core.series.Series'>\n",
      "<bound method Series.to_dict of 29.0    22\n",
      "30.0    20\n",
      "25.0    19\n",
      "19.0    18\n",
      "18.0    18\n",
      "45.0    17\n",
      "20.0    17\n",
      "26.0    16\n",
      "24.0    16\n",
      "23.0    16\n",
      "33.0    15\n",
      "36.0    15\n",
      "31.0    15\n",
      "34.0    14\n",
      "35.0    14\n",
      "22.0    14\n",
      "51.0    13\n",
      "44.0    13\n",
      "41.0    13\n",
      "37.0    12\n",
      "42.0    12\n",
      "28.0    11\n",
      "40.0    11\n",
      "46.0    11\n",
      "32.0    11\n",
      "53.0    11\n",
      "62.0    10\n",
      "52.0    10\n",
      "43.0    10\n",
      "47.0    10\n",
      "        ..\n",
      "63.0     4\n",
      "55.0     4\n",
      "57.0     4\n",
      "8.0      3\n",
      "15.0     3\n",
      "4.0      3\n",
      "1.0      3\n",
      "58.0     3\n",
      "10.0     2\n",
      "12.0     2\n",
      "13.0     2\n",
      "0.0      2\n",
      "77.0     2\n",
      "71.0     2\n",
      "80.0     2\n",
      "78.0     2\n",
      "7.0      1\n",
      "85.0     1\n",
      "83.0     1\n",
      "81.0     1\n",
      "5.0      1\n",
      "88.0     1\n",
      "64.0     1\n",
      "9.0      1\n",
      "76.0     1\n",
      "72.0     1\n",
      "68.0     1\n",
      "14.0     1\n",
      "67.0     1\n",
      "89.0     1\n",
      "Name: AGE, dtype: int64>\n"
     ]
    }
   ],
   "source": [
    "print(type(injuries))\n",
    "print(injuries)\n",
    "print(type(ages))\n",
    "print(ages.to_dict)"
   ]
  }
 ],
 "metadata": {
  "kernelspec": {
   "display_name": "Python 3",
   "language": "python",
   "name": "python3"
  },
  "language_info": {
   "codemirror_mode": {
    "name": "ipython",
    "version": 3
   },
   "file_extension": ".py",
   "mimetype": "text/x-python",
   "name": "python",
   "nbconvert_exporter": "python",
   "pygments_lexer": "ipython3",
   "version": "3.5.2"
  }
 },
 "nbformat": 4,
 "nbformat_minor": 0
}
