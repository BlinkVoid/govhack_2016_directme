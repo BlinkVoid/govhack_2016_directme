{
 "cells": [
  {
   "cell_type": "code",
   "execution_count": 1,
   "metadata": {
    "collapsed": true
   },
   "outputs": [],
   "source": [
    "class Debug:\n",
    "    def __init__(self, level):\n",
    "        self.level = level\n",
    "    def msg(self, level, m):\n",
    "        if(level <= self.level):\n",
    "            print(m)\n",
    "debug = Debug(10).msg"
   ]
  },
  {
   "cell_type": "code",
   "execution_count": 2,
   "metadata": {
    "collapsed": true
   },
   "outputs": [],
   "source": [
    "%matplotlib inline\n",
    "#!/usr/bin/python\n",
    "#AWS redshift connector:\n",
    "#setup\n",
    "from datetime import date, timedelta\n",
    "import pandas as pd\n",
    "import random\n",
    "import numpy as np\n",
    "import matplotlib.pyplot as plt"
   ]
  },
  {
   "cell_type": "code",
   "execution_count": 3,
   "metadata": {
    "collapsed": true
   },
   "outputs": [],
   "source": [
    "def uniqueSummary(csvname):\n",
    "    df = pd.read_csv(csvname)\n",
    "    newdf = pd.DataFrame(columns = df.columns)\n",
    "    for colName in df.head():\n",
    "        u = df[colName].unique()\n",
    "        if len(u) > 100:\n",
    "            newdf.loc[:, colName] = [len(u), \"more than 100\"]\n",
    "        else:\n",
    "            newdf.loc[:, colName] = [len(u), u]\n",
    "    newdf = newdf.T\n",
    "    \n",
    "    newdf.to_csv(\"uniqueSummary_\" + csvname)\n",
    "        "
   ]
  },
  {
   "cell_type": "code",
   "execution_count": 7,
   "metadata": {
    "collapsed": false
   },
   "outputs": [
    {
     "name": "stderr",
     "output_type": "stream",
     "text": [
      "/home/r117/miniconda3/envs/snakes/lib/python3.5/site-packages/IPython/core/interactiveshell.py:2825: DtypeWarning: Columns (10,13) have mixed types. Specify dtype option on import or set low_memory=False.\n",
      "  if self.run_code(code, result):\n",
      "/home/r117/miniconda3/envs/snakes/lib/python3.5/site-packages/IPython/core/interactiveshell.py:2825: DtypeWarning: Columns (3,26) have mixed types. Specify dtype option on import or set low_memory=False.\n",
      "  if self.run_code(code, result):\n"
     ]
    }
   ],
   "source": [
    "## don't run below if you have files in the prefix of uniqueSummary_*\n",
    "with open(\"filenames.txt\") as f:\n",
    "    for i in f:\n",
    "        i = i.strip('\\n')\n",
    "        uniqueSummary(i)\n",
    "        "
   ]
  },
  {
   "cell_type": "code",
   "execution_count": 4,
   "metadata": {
    "collapsed": false
   },
   "outputs": [],
   "source": [
    "class LOC():\n",
    "    def __init__(self,lat, long):\n",
    "        self.lat = lat\n",
    "        self.long = long"
   ]
  },
  {
   "cell_type": "code",
   "execution_count": 45,
   "metadata": {
    "collapsed": false
   },
   "outputs": [],
   "source": [
    "def getNodes(A, B): #(A, B, nodedf) #keep in mind this function assumes lat in negative values\n",
    "    tempdf = nodedf[(nodedf['Lat'] <= A.lat) & (nodedf['Lat'] >= B.lat) &\n",
    "                    (nodedf['Long'] <= B.long) & (nodedf['Long'] >= A.long) ]\n",
    "    return tempdf"
   ]
  },
  {
   "cell_type": "markdown",
   "metadata": {},
   "source": [
    "## Get the unique probability summary\n",
    "### age composition, road surface conditions, road atmospheric conditions,"
   ]
  },
  {
   "cell_type": "code",
   "execution_count": 8,
   "metadata": {
    "collapsed": false
   },
   "outputs": [],
   "source": [
    "#plot\n",
    "def plotBarChart(data):\n",
    "    fig, ax = plt.subplots()\n",
    "\n",
    "    index = data.index\n",
    "    bar_width = 0.35\n",
    "\n",
    "    opacity = 0.4\n",
    "    error_config = {'ecolor': '0.3'}\n",
    "\n",
    "    rects1 = plt.bar(index, data.values, bar_width,\n",
    "                     alpha=opacity,\n",
    "                     color='b',\n",
    "                     error_kw=error_config,\n",
    "                     label='age groups')\n",
    "\n",
    "    plt.xlabel('Age groups')\n",
    "    plt.ylabel('Accident counts')\n",
    "    plt.title('Age vs accidents')\n",
    "    plt.legend()\n",
    "    #plt.tight_layout()\n",
    "    plt.show()\n"
   ]
  },
  {
   "cell_type": "code",
   "execution_count": 31,
   "metadata": {
    "collapsed": false
   },
   "outputs": [],
   "source": [
    "#get road surface condition\n",
    "def getDetailDF(df1, df2, key, query): #df1 = inrangedf, df2 = which ever data we want to get with the same accident no\n",
    "    tempdf = df2[df2[key].isin(df1[key])]\n",
    "    tempdf = tempdf[query].value_counts()\n",
    "    tempdf2 = tempdf / tempdf.sum()\n",
    "    return (tempdf, tempdf2)\n"
   ]
  },
  {
   "cell_type": "code",
   "execution_count": null,
   "metadata": {
    "collapsed": true
   },
   "outputs": [],
   "source": [
    "#for age: PERSON.csv\n",
    "#for road surface: ROAD_SURFACE_COND.csv\n",
    "#for road atmospheric conditions: ATMOSPHERIC_COND.csv\n",
    "#checking against inrangenodedf\n",
    "persondf = pd.read_csv(\"PERSON.csv\")\n",
    "roadSurfacedf = pd.read_csv(\"ROAD_SURFACE_COND.csv\")\n",
    "roadAtmosphericdf = pd.read_csv(\"ATMOSPHERIC_COND.csv\")\n",
    "nodedf = pd.read_csv(\"NODE.csv\")\n",
    "#preferrably load everything at server_start"
   ]
  },
  {
   "cell_type": "code",
   "execution_count": 46,
   "metadata": {
    "collapsed": false
   },
   "outputs": [
    {
     "data": {
      "image/png": "[encoded data removed]",
      "text/plain": [
       "<matplotlib.figure.Figure at 0x7ff0a493f7f0>"
      ]
     },
     "metadata": {},
     "output_type": "display_data"
    }
   ],
   "source": [
    "#tie everything together\n",
    "pointA = LOC(-37.8007939, 144.8803823)\n",
    "pointB = LOC(-37.8622120,144.8831790)\n",
    "#===========\n",
    "inrangedf = getNodes(pointA, pointB) #the function assume the lat is in negative values. \n",
    "#injury distribution\n",
    "injuries1, injuries_pct = getDetailDF(inrangedf, persondf, \"ACCIDENT_NO\", \"INJ_LEVEL\")\n",
    "#age distribution\n",
    "ages, ages_pct = getDetailDF(inrangedf, persondf, \"ACCIDENT_NO\", \"AGE\")\n",
    "plotBarChart(ages)\n",
    "#get road surface conditions\n",
    "roadSurfaces, roadSurfaces_pct = getDetailDF(inrangedf, roadSurfacedf, \"ACCIDENT_NO\", \"Surface Cond Desc\")\n",
    "#get atmospheric conditions\n",
    "roadAtmospherics, roadAtmospherics_pct = getDetailDF(inrangedf, roadAtmosphericdf, \"ACCIDENT_NO\", \"Atmosph Cond Desc\")"
   ]
  },
  {
   "cell_type": "code",
   "execution_count": 48,
   "metadata": {
    "collapsed": false,
    "scrolled": true
   },
   "outputs": [
    {
     "name": "stdout",
     "output_type": "stream",
     "text": [
      "{'serious_injury': '12.76%', 'non_injury': '54.02%', 'total_injuries': 635, 'fatality': '0.16%', 'other_injury': '33.07%'}\n",
      "29.0    22\n",
      "30.0    20\n",
      "25.0    19\n",
      "19.0    18\n",
      "18.0    18\n",
      "45.0    17\n",
      "20.0    17\n",
      "26.0    16\n",
      "24.0    16\n",
      "23.0    16\n",
      "33.0    15\n",
      "36.0    15\n",
      "31.0    15\n",
      "34.0    14\n",
      "35.0    14\n",
      "22.0    14\n",
      "51.0    13\n",
      "44.0    13\n",
      "41.0    13\n",
      "37.0    12\n",
      "42.0    12\n",
      "28.0    11\n",
      "40.0    11\n",
      "46.0    11\n",
      "32.0    11\n",
      "53.0    11\n",
      "62.0    10\n",
      "52.0    10\n",
      "43.0    10\n",
      "47.0    10\n",
      "        ..\n",
      "63.0     4\n",
      "55.0     4\n",
      "57.0     4\n",
      "8.0      3\n",
      "15.0     3\n",
      "4.0      3\n",
      "1.0      3\n",
      "58.0     3\n",
      "10.0     2\n",
      "12.0     2\n",
      "13.0     2\n",
      "0.0      2\n",
      "77.0     2\n",
      "71.0     2\n",
      "80.0     2\n",
      "78.0     2\n",
      "7.0      1\n",
      "85.0     1\n",
      "83.0     1\n",
      "81.0     1\n",
      "5.0      1\n",
      "88.0     1\n",
      "64.0     1\n",
      "9.0      1\n",
      "76.0     1\n",
      "72.0     1\n",
      "68.0     1\n",
      "14.0     1\n",
      "67.0     1\n",
      "89.0     1\n",
      "Name: AGE, dtype: int64\n",
      "Dry        195\n",
      "Wet         35\n",
      "Unknown     18\n",
      "Muddy        1\n",
      "Name: Surface Cond Desc, dtype: int64\n",
      "Dry        0.783133\n",
      "Wet        0.140562\n",
      "Unknown    0.072289\n",
      "Muddy      0.004016\n",
      "Name: Surface Cond Desc, dtype: float64\n",
      "Clear           201\n",
      "Not known        23\n",
      "Raining          23\n",
      "Strong winds      3\n",
      "Smoke             1\n",
      "Name: Atmosph Cond Desc, dtype: int64\n",
      "Clear           0.800797\n",
      "Not known       0.091633\n",
      "Raining         0.091633\n",
      "Strong winds    0.011952\n",
      "Smoke           0.003984\n",
      "Name: Atmosph Cond Desc, dtype: float64\n"
     ]
    }
   ],
   "source": [
    "#print(type(injuries))\n",
    "print(injuries)\n",
    "#print(type(ages))\n",
    "print(ages)\n",
    "print(roadSurfaces)\n",
    "print(roadSurfaces_pct)\n",
    "print(roadAtmospherics)\n",
    "print(roadAtmospherics_pct)"
   ]
  },
  {
   "cell_type": "code",
   "execution_count": null,
   "metadata": {
    "collapsed": true
   },
   "outputs": [],
   "source": []
  }
 ],
 "metadata": {
  "kernelspec": {
   "display_name": "Python 3",
   "language": "python",
   "name": "python3"
  },
  "language_info": {
   "codemirror_mode": {
    "name": "ipython",
    "version": 3
   },
   "file_extension": ".py",
   "mimetype": "text/x-python",
   "name": "python",
   "nbconvert_exporter": "python",
   "pygments_lexer": "ipython3",
   "version": "3.5.2"
  }
 },
 "nbformat": 4,
 "nbformat_minor": 0
}
