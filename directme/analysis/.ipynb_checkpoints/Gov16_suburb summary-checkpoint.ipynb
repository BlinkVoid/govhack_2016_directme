{
 "cells": [
  {
   "cell_type": "markdown",
   "metadata": {},
   "source": [
    "## Summarise accidents by suburbs\n",
    "### factoring in mortality rate"
   ]
  },
  {
   "cell_type": "code",
   "execution_count": null,
   "metadata": {
    "collapsed": true
   },
   "outputs": [],
   "source": [
    "###problem with the suburblist.txt, need to rewrite this function to support new data.\n",
    "subsdf = pd.DataFrame(columns=[\"Postcode\", \"Suburb\", \"TotalAccidents\", \"Non-injury\", \"Other-injury\", \"Serious-injury\", \"Fatality\"])\n",
    "with open(\"suburblist.txt\") as f:\n",
    "    a = f.readlines()\n",
    "    k = []\n",
    "    row = 0\n",
    "    for i in a:\n",
    "        t = i.strip(\"Suburb : \\n\")\n",
    "        #t = t.strip(\"\\n\")\n",
    "        c=t.split(\"(\")\n",
    "        sub = c[0]\n",
    "        pos = c[1].strip(\"()\")\n",
    "        #pos = pos.stri(\")\")\n",
    "        subsdf.loc[row] = [pos, sub, 0, 0, 0, 0, 0]\n",
    "        row += 1\n",
    "print(subsdf.shape )"
   ]
  },
  {
   "cell_type": "code",
   "execution_count": null,
   "metadata": {
    "collapsed": true
   },
   "outputs": [],
   "source": [
    "#load accident to find mortality\n",
    "#from PERSON.csv, INJ_LEVEL 1-4, 4 being non-injury, 1 being fatality, inj level desc has more details.\n",
    "persondf = pd.read_csv(\"PERSON.csv\")"
   ]
  },
  {
   "cell_type": "code",
   "execution_count": null,
   "metadata": {
    "collapsed": true
   },
   "outputs": [],
   "source": [
    "persondf.columns"
   ]
  },
  {
   "cell_type": "code",
   "execution_count": null,
   "metadata": {
    "collapsed": true
   },
   "outputs": [],
   "source": [
    "subsdf[(subsdf[\"ACCIDENT_NO\"] == \"T20060002570\") & subsdf[\"INJ_LEVEL\"] "
   ]
  },
  {
   "cell_type": "code",
   "execution_count": null,
   "metadata": {
    "collapsed": true
   },
   "outputs": [],
   "source": [
    "#need to optimize this function. Approach chould be from persondf's perspective to check against suburb code,\n",
    "#it would be faster that way.\n",
    "def countInjuries(data): #the data is a sub dataframe of node\n",
    "    #debug(10, data.head())\n",
    "    injuries = [0, 0, 0, 0] #four categories of injuries\n",
    "    debug(10, \"Processing: {0}\".format(data.shape[0]))\n",
    "    if data.shape[0] > 0:\n",
    "        for i in range(data.shape[0]):\n",
    "            #for each accident number\n",
    "            number = data.iloc[i, 0]\n",
    "            injuries[0] += persondf[(persondf[\"ACCIDENT_NO\"] == number) & (persondf[\"INJ_LEVEL\"] == 1)].shape[0]\n",
    "            injuries[1] += persondf[(persondf[\"ACCIDENT_NO\"] == number) & (persondf[\"INJ_LEVEL\"] == 2)].shape[0]\n",
    "            injuries[2] += persondf[(persondf[\"ACCIDENT_NO\"] == number) & (persondf[\"INJ_LEVEL\"] == 3)].shape[0]\n",
    "            injuries[3] += persondf[(persondf[\"ACCIDENT_NO\"] == number) & (persondf[\"INJ_LEVEL\"] == 4)].shape[0]\n",
    "    return injuries\n",
    "for i in range(subsdf.shape[0]):\n",
    "    code = int(subsdf.loc[i, 'Postcode'])\n",
    "    #debug(10, code)\n",
    "    if type(code) == type(0):\n",
    "        tempdf = nodedf[nodedf[\"Postcode No\"] == code]\n",
    "        count = tempdf.shape[0]\n",
    "        injuries = countInjuries(tempdf)\n",
    "        debug(10, injuries)\n",
    "        if(len(injuries) > 0):\n",
    "            subsdf.loc[i, 'TotalAccidents'] = count\n",
    "            subsdf.loc[i, \"None-injury\"] = injuries[3]\n",
    "            subsdf.loc[i, \"Other-injury\"] = injuries[2]\n",
    "            subsdf.loc[i, \"Serious-injury\"] = injuries[1]\n",
    "            subsdf.loc[i, \"Fatality\"] = injuries[0]\n",
    "\n",
    "#def findCases(colName, df1, df2): #df1 is the dataframe to look for, df2 is the dataframe to compare"
   ]
  },
  {
   "cell_type": "code",
   "execution_count": null,
   "metadata": {
    "collapsed": true
   },
   "outputs": [],
   "source": [
    "subsdf.head()"
   ]
  },
  {
   "cell_type": "code",
   "execution_count": null,
   "metadata": {
    "collapsed": true
   },
   "outputs": [],
   "source": [
    "subsdf.to_csv(\"AccidentsbySuburbs.csv\")"
   ]
  }
 ],
 "metadata": {
  "kernelspec": {
   "display_name": "Python 3",
   "language": "python",
   "name": "python3"
  },
  "language_info": {
   "codemirror_mode": {
    "name": "ipython",
    "version": 3
   },
   "file_extension": ".py",
   "mimetype": "text/x-python",
   "name": "python",
   "nbconvert_exporter": "python",
   "pygments_lexer": "ipython3",
   "version": "3.5.2"
  }
 },
 "nbformat": 4,
 "nbformat_minor": 0
}
